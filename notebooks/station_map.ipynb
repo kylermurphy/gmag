{
 "cells": [
  {
   "cell_type": "markdown",
   "metadata": {},
   "source": [
    "# Generate Station Map for GMAG documentation\n",
    "\n",
    "Generate a map of station locations for the GMAG website. "
   ]
  },
  {
   "cell_type": "code",
   "execution_count": null,
   "metadata": {},
   "outputs": [],
   "source": [
    "from IPython.core.interactiveshell import InteractiveShell\n",
    "InteractiveShell.ast_node_interactivity = \"all\"\n",
    "\n",
    "import pandas as pd\n",
    "import folium"
   ]
  },
  {
   "cell_type": "code",
   "execution_count": null,
   "metadata": {},
   "outputs": [],
   "source": [
    "# read station data\n",
    "data = pd.read_csv('..\\\\gmag\\\\Stations\\\\station_list.csv')\n",
    "arrays = data.Array.unique()\n",
    "arrays"
   ]
  },
  {
   "cell_type": "code",
   "execution_count": null,
   "metadata": {},
   "outputs": [],
   "source": [
    "# generate station/array map\n",
    "stn_map = folium.Map(location=[40,200],zoom_start=1,\n",
    "                    width=650, height=400)\n",
    "\n",
    "col = ['red','lightred','orange','cadetblue',\n",
    "      'blue','lightblue','purple','lightgreen','lightgray'\n",
    "      'grey','darkblue']\n",
    "\n",
    "\n",
    "\n",
    "for x, y in zip(arrays,col): \n",
    "    stn_dat = data[data['Array'] == x].copy()\n",
    "    for label, row in stn_dat.iterrows():\n",
    "        folium.Circle(\n",
    "            radius=100,\n",
    "            location=[row['Latitude'],row['Longitude']],\n",
    "            color=y,\n",
    "            fill=True,\n",
    "            ).add_to(stn_map)\n",
    "        #folium.Marker([row['Latitude'],row['Longitude']], popup='{0} {1}'.format(x,row['Code']),\n",
    "        #             icon=folium.Icon(color=y)).add_to(stn_map)\n",
    "    \n",
    "    "
   ]
  },
  {
   "cell_type": "code",
   "execution_count": null,
   "metadata": {},
   "outputs": [],
   "source": [
    "# save station/array map\n",
    "stn_map\n",
    "#stn_map.save('stn_map.html')"
   ]
  },
  {
   "cell_type": "code",
   "execution_count": null,
   "metadata": {},
   "outputs": [],
   "source": [
    "%matplotlib inline\n",
    "import numpy as np\n",
    "import matplotlib.pyplot as plt\n",
    "from mpl_toolkits.basemap import Basemap"
   ]
  },
  {
   "cell_type": "markdown",
   "metadata": {},
   "source": [
    "array(['CARISMA', 'CANMOS', 'AUTUMNX', 'DTU', 'IMAGE', 'GIMA', 'MACCS',\n",
    "       'McMAC', 'THEMIS', 'USGS', 'PENGUIN'], dtype=object)"
   ]
  },
  {
   "cell_type": "code",
   "execution_count": null,
   "metadata": {},
   "outputs": [],
   "source": [
    "fig = plt.figure(figsize=(16, 10), edgecolor='w')\n",
    "m = Basemap(projection='cyl', resolution=None,\n",
    "            llcrnrlat=-90, urcrnrlat=90,\n",
    "            llcrnrlon=0, urcrnrlon=360, )\n",
    "m.bluemarble(scale=0.5);\n",
    "\n",
    "col = ['crimson','orchid','orange',\n",
    "      'royalblue','lightsteelblue','dodgerblue','cornflowerblue','mediumseagreen','snow',\n",
    "      'gold','black']\n",
    "\n",
    "for x, y in zip(arrays,col): \n",
    "    print(x)\n",
    "    stn_dat = data[data['Array'] == x].copy()\n",
    "    lon = stn_dat['Longitude'].copy()\n",
    "    lat = stn_dat['Latitude'].copy()\n",
    "    plt.plot(lon, lat, 'ok',color=y, markersize=5,label=x)\n",
    "    #for label, row in stn_dat.iterrows():\n",
    "            #lon,lat=m(row['Longitude'],row['Latitude'])\n",
    "            #if lon >180:\n",
    "            #    lon = lon-360\n",
    "            #plt.plot(lon, lat, 'ok',color=y, markersize=5)\n",
    "\n",
    "plt.draw()\n",
    "plt.legend()\n",
    "plt.savefig('C:\\\\Users\\\\krmurph1\\\\OneDrive\\\\GMAG_Frontiers\\\\Station_map.png', bbox_inches='tight')"
   ]
  },
  {
   "cell_type": "code",
   "execution_count": null,
   "metadata": {},
   "outputs": [],
   "source": []
  }
 ],
 "metadata": {
  "kernelspec": {
   "display_name": "Python 3 (ipykernel)",
   "language": "python",
   "name": "python3"
  },
  "language_info": {
   "codemirror_mode": {
    "name": "ipython",
    "version": 3
   },
   "file_extension": ".py",
   "mimetype": "text/x-python",
   "name": "python",
   "nbconvert_exporter": "python",
   "pygments_lexer": "ipython3",
   "version": "3.7.13"
  }
 },
 "nbformat": 4,
 "nbformat_minor": 2
}

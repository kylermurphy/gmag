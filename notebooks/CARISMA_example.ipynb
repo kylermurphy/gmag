{
 "cells": [
  {
   "cell_type": "markdown",
   "metadata": {},
   "source": [
    "# CARISMA and CANOPUS\n",
    "\n",
    "Short notebook demonstrating the CARISMA and CANOPUS modules.\n",
    "\n",
    "CANOPUS data is similar to CARISMA data and hosted by the University of Alberta. Data must be downloaded from the website before loading as a CANOPUS data server does not exist. "
   ]
  },
  {
   "cell_type": "code",
   "execution_count": null,
   "metadata": {},
   "outputs": [],
   "source": [
    "from IPython.core.interactiveshell import InteractiveShell\n",
    "InteractiveShell.ast_node_interactivity = \"all\"\n",
    "\n",
    "%matplotlib notebook"
   ]
  },
  {
   "cell_type": "code",
   "execution_count": null,
   "metadata": {
    "scrolled": true
   },
   "outputs": [],
   "source": [
    "# import modules\n",
    "import gmag.arrays.carisma as carisma\n",
    "from gmag import utils\n",
    "import pandas as pd\n",
    "import matplotlib.pyplot as plt"
   ]
  },
  {
   "cell_type": "code",
   "execution_count": null,
   "metadata": {},
   "outputs": [],
   "source": [
    "# list the local and remote file locations and file names\n",
    "# used for download and loading data\n",
    "fl = carisma.list_files('GILL','2012-01-01',ndays=4)\n",
    "fl.head()"
   ]
  },
  {
   "cell_type": "code",
   "execution_count": null,
   "metadata": {},
   "outputs": [],
   "source": [
    "# download a single station of data\n",
    "carisma.download('GILL','2021-02-09',ndays=1)"
   ]
  },
  {
   "cell_type": "code",
   "execution_count": null,
   "metadata": {},
   "outputs": [],
   "source": [
    "# load data and meta data from 2 sites for a single day\n",
    "c_dat, c_meta=carisma.load(['ISLL','GILL'],'2019-01-04',ndays=1,drop_flag=False)"
   ]
  },
  {
   "cell_type": "code",
   "execution_count": null,
   "metadata": {},
   "outputs": [],
   "source": [
    "# show the loaded DataFrame\n",
    "c_dat.head()"
   ]
  },
  {
   "cell_type": "code",
   "execution_count": null,
   "metadata": {},
   "outputs": [],
   "source": [
    "# show the meta data\n",
    "c_meta\n",
    "c_meta['Coordinates'][0]"
   ]
  },
  {
   "cell_type": "code",
   "execution_count": null,
   "metadata": {},
   "outputs": [],
   "source": [
    "# Read in all Carisma Data for a particular day\n",
    "car_stn = utils.load_station_coor(param='CARISMA',col='array')\n",
    "c_dat2, c_meta2 = carisma.load(list(car_stn['code']),'2020-01-02')\n",
    "c_meta2"
   ]
  },
  {
   "cell_type": "code",
   "execution_count": null,
   "metadata": {},
   "outputs": [],
   "source": [
    "# load some canopus data\n",
    "import gmag.arrays.canopus as canopus\n",
    "can_d, can_m=canopus.load('GILL','1995-06-23',ndays=1)\n",
    "can_d.head()"
   ]
  },
  {
   "cell_type": "code",
   "execution_count": null,
   "metadata": {},
   "outputs": [],
   "source": [
    "can_m"
   ]
  }
 ],
 "metadata": {
  "kernelspec": {
   "display_name": "Python 3 (ipykernel)",
   "language": "python",
   "name": "python3"
  },
  "language_info": {
   "codemirror_mode": {
    "name": "ipython",
    "version": 3
   },
   "file_extension": ".py",
   "mimetype": "text/x-python",
   "name": "python",
   "nbconvert_exporter": "python",
   "pygments_lexer": "ipython3",
   "version": "3.7.13"
  }
 },
 "nbformat": 4,
 "nbformat_minor": 2
}

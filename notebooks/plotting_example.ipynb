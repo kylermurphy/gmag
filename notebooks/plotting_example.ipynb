{
 "cells": [
  {
   "cell_type": "markdown",
   "metadata": {},
   "source": [
    "# Plotting examples\n",
    "\n",
    "Examples of how to plot with GMAG. These examples are used in the GMAG Frontier Manuscript.\n"
   ]
  },
  {
   "cell_type": "code",
   "execution_count": null,
   "metadata": {},
   "outputs": [],
   "source": [
    "%matplotlib notebook"
   ]
  },
  {
   "cell_type": "markdown",
   "metadata": {},
   "source": [
    "## THEMIS plot, Figure XX"
   ]
  },
  {
   "cell_type": "code",
   "execution_count": null,
   "metadata": {},
   "outputs": [],
   "source": [
    "# Plot a simple time series from\n",
    "# a single station loaded using\n",
    "# the THEMIS module\n",
    "\n",
    "# import required modules\n",
    "import numpy as np\n",
    "import matplotlib.pyplot as plt\n",
    "import gmag.arrays.themis as themis\n",
    "\n",
    "# define start and end dates for plotting\n",
    "sdate = '2011-04-09 05:30:00'\n",
    "edate = '2011-04-09 06:30:00'\n",
    "\n",
    "# load data\n",
    "th_dat, th_meta = themis.load(['SNKQ'],sdate,ndays=1)\n",
    "\n",
    "# plot all data in the DataFrame between\n",
    "# sdate and edate\n",
    "th_dat[sdate:edate].plot(ylabel='nT', xlabel='Time - UT', figsize=[6,6],subplots=True)\n",
    "plt.title(sdate[0:11]+' Substorm',y=3.35)"
   ]
  },
  {
   "cell_type": "markdown",
   "metadata": {},
   "source": [
    "# CARISMA substorm plot, multiple stations\n",
    "\n",
    "Plot H component data from multiple stations apart of the CARISMA array. "
   ]
  },
  {
   "cell_type": "code",
   "execution_count": null,
   "metadata": {},
   "outputs": [],
   "source": [
    "# Plot multi-panel plot of the H compoment\n",
    "# magnetic field for select CARSIMA stations\n",
    "\n",
    "# import required modules\n",
    "import gmag.arrays.carisma as carisma\n",
    "import numpy as np\n",
    "import matplotlib.pyplot as plt\n",
    "\n",
    "# define start and end date for plotting and loading\n",
    "# assume a single day is loaded\n",
    "sdate = '2005-07-17 08:00:00'\n",
    "edate = '2005-07-17 12:30:00'\n",
    "\n",
    "# define component to be plotted\n",
    "comp='H'\n",
    "\n",
    "# load data\n",
    "car_dat, car_meta=carisma.load(['GILL','ISLL','PINA','RABB','FSMI','FSIM','MCMU'],sdate)\n",
    "\n",
    "# find the correct columns of the DataFrame\n",
    "p_col = [col for col in car_dat.columns if col[-1] == comp]\n",
    "\n",
    "# plot the DataFrame between sdate and edate \n",
    "# plot only p_col columns and subtrac the mean from each column\n",
    "# before plotting\n",
    "car_dat[sdate:edate][p_col].subtract(car_dat[p_col].mean()).plot(ylabel='nT', xlabel='Time - UT',\n",
    "                                                            figsize=[6,10],subplots=True)\n",
    "plt.title(sdate[0:11]+' Substorm/Pseudobreakup',y=8.25)"
   ]
  },
  {
   "cell_type": "markdown",
   "metadata": {},
   "source": [
    "## CARISMA ULF waves stacked plot"
   ]
  },
  {
   "cell_type": "code",
   "execution_count": null,
   "metadata": {},
   "outputs": [],
   "source": [
    "# plot a stacked plot of CARISMA the H component\n",
    "# magnetic field for stations along the Churchill line\n",
    "\n",
    "# import required modules\n",
    "import gmag.arrays.carisma as carisma\n",
    "import numpy as np\n",
    "import matplotlib.pyplot as plt\n",
    "\n",
    "# define start and end date for plotting \n",
    "# use start date for loading data\n",
    "sdate = '2014-11-05 13:25:00'\n",
    "edate = '2014-11-05 14:25:00'\n",
    "\n",
    "# define component for plotting\n",
    "comp='H'\n",
    "\n",
    "# load data\n",
    "car_dat, car_meta=carisma.load(['PINA','ISLL','GILL','FCHU','RANK'],sdate)\n",
    "\n",
    "# find the columns from the loaded DataFrame that have comp\n",
    "# in the title, these are the columns that will be plotted\n",
    "p_col = [col for col in car_dat.columns if col[-1] == comp]\n",
    "\n",
    "# determine the shift to apply to each time series so that they don't\n",
    "# overlatp\n",
    "\n",
    "# the shift is determined using the DataFrame returned by the describe()\n",
    "# method which stores the DataFrame stats including max and min of each column\n",
    "# only use columns from p_col and values between the start and end of plotting\n",
    "# defined by sdate and edate\n",
    "# the shift in the y direction is defined by 1.5 times the range of the series\n",
    "y_shift = np.array([(val['max']-val['min'])/1.5 for col_h, val in car_dat[sdate:edate][p_col].describe().iteritems()])\n",
    "\n",
    "# the cumsum() method determines the cumalitative sum up\n",
    "# to each index\n",
    "# the cumsum() ensures timeseries don't overlap\n",
    "y_shift = (y_shift-y_shift.min()).cumsum()\n",
    "\n",
    "# plot p_col columns of the data frame between sdate and edate\n",
    "# subtract the mean from each time series and apply the y-shit\n",
    "car_dat[sdate:edate][p_col].subtract(car_dat[sdate:edate][p_col].mean()-y_shift).plot(ylabel='nT', xlabel='Time - UT',\n",
    "                                                            figsize=[6,10])\n",
    "plt.title(sdate[0:11]+' ULF Wave')"
   ]
  },
  {
   "cell_type": "code",
   "execution_count": null,
   "metadata": {},
   "outputs": [],
   "source": []
  }
 ],
 "metadata": {
  "kernelspec": {
   "display_name": "Python 3 (ipykernel)",
   "language": "python",
   "name": "python3"
  },
  "language_info": {
   "codemirror_mode": {
    "name": "ipython",
    "version": 3
   },
   "file_extension": ".py",
   "mimetype": "text/x-python",
   "name": "python",
   "nbconvert_exporter": "python",
   "pygments_lexer": "ipython3",
   "version": "3.7.13"
  }
 },
 "nbformat": 4,
 "nbformat_minor": 5
}
